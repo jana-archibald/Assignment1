{
 "cells": [
  {
   "cell_type": "markdown",
   "metadata": {
    "editable": false
   },
   "source": [
    "### Jupyter Assignment 1\n",
    "\n",
    "#### Due Wednesday July 21\n",
    "\n",
    "You will submit your solution for each question in crowdmark. You can take screenshots of your notebook, or print your work to pdf. You may need to upload the same page twice.  You may choose to write your answers to the questions from the textbook on paper, or using another program. \n",
    "\n",
    "You must show all of your work, please take the time to make a final answer. Ensure you have completely answered all of the questions, remove code that didn't run, or was not what was needed, add titles to your plots.\n",
    "\n",
    "\n",
    "Some of the questions come from our textbook, if so I have indicated the question number.\n",
    "\n",
    "If you need to add a code or markdown block you can use the + symbol above. To remove a block use the scissors."
   ]
  },
  {
   "cell_type": "markdown",
   "metadata": {
    "editable": false
   },
   "source": [
    "### Question 1: (textbook 1.26) Family size.\n",
    "\n",
    "\n",
    "Suppose we want to estimate household size, where a \"household\" is defined as people living together in the same dwelling, and sharing living accommodations. If we select students at random at an elementary school and ask them what their family size is, will this be a good measure of household size? Or will our average be biased? If so, will it overestimate or underestimate the true value?\n",
    "\n",
    "Explain why!"
   ]
  },
  {
   "cell_type": "markdown",
   "metadata": {},
   "source": [
    "Answer 1:\n"
   ]
  },
  {
   "cell_type": "markdown",
   "metadata": {
    "editable": false
   },
   "source": [
    "### The next questions are all about one data set called sleep\n",
    "Run the code below to load the data."
   ]
  },
  {
   "cell_type": "code",
   "execution_count": null,
   "metadata": {
    "editable": false
   },
   "outputs": [],
   "source": [
    "sleep<- read.csv(\"https://www.openintro.org/data/csv/mammals.csv\") "
   ]
  },
  {
   "cell_type": "markdown",
   "metadata": {
    "editable": false
   },
   "source": [
    "### About the data:\n",
    "\n",
    "This data is avaliable at `openintro.org`.\n",
    "\n",
    "\n",
    "This data set includes data for 39 species of mammals distributed over 13 orders. \n",
    "\n",
    "\n",
    "The source of the data is  http://www.statsci.org/data/general/sleep.txt.\n",
    "\n",
    "The variables are:\n",
    "\n",
    "- `species` - Species of mammals\n",
    "- `body_wt` - Total body weight of the mammal (in kg)\n",
    "- `brain_wt` - Brain weight of the mammal (in kg)\n",
    "- `non_dreaming` - Number of hours of non dreaming sleep\n",
    "- `dreaming` - Number of hours of dreaming sleep\n",
    "- `total_sleep` - Total number of hours of sleep\n",
    "- `life_span` - Life span (in years)\n",
    "- `gestation` - Gestation time (in days)\n",
    "- `predation` - An index of how likely the mammal is to be preyed upon. 1 = least likely to be preyed upon. 5 = most likely to be preyed upon.\n",
    "- `exposure` - An index of the how exposed the mammal is during sleep. 1 = least exposed (e.g., sleeps in a well-protected den). 5 = most exposed.\n",
    "- `danger` - An index of how much danger the mammal faces from other animals. This index is based upon Predation and Exposure. 1 = least danger from other animals. 5 = most danger from other animals."
   ]
  },
  {
   "cell_type": "markdown",
   "metadata": {
    "editable": false
   },
   "source": [
    "### Question 2:\n",
    "\n",
    "a. What does each row in the data matrix represent.\n",
    "\n",
    "b. How many participants were included in the survey?\n",
    "\n",
    "c. For each variable in the study indicate if the variable is numerical or categorical."
   ]
  },
  {
   "cell_type": "code",
   "execution_count": null,
   "metadata": {},
   "outputs": [],
   "source": []
  },
  {
   "cell_type": "code",
   "execution_count": null,
   "metadata": {},
   "outputs": [],
   "source": []
  },
  {
   "cell_type": "markdown",
   "metadata": {},
   "source": [
    "Answer 3:  "
   ]
  },
  {
   "cell_type": "markdown",
   "metadata": {
    "editable": false
   },
   "source": [
    "### Question 3:\n",
    "\n",
    "Describe the distribution of the variable `dreaming`.\n",
    "\n",
    "Your answer must include at least one plot, and you should disuss the center, spread and shape of the distribution.\n",
    "\n",
    "Are there any outliers?  "
   ]
  },
  {
   "cell_type": "code",
   "execution_count": null,
   "metadata": {},
   "outputs": [],
   "source": []
  },
  {
   "cell_type": "code",
   "execution_count": null,
   "metadata": {},
   "outputs": [],
   "source": []
  },
  {
   "cell_type": "markdown",
   "metadata": {},
   "source": [
    "Answer 3:"
   ]
  },
  {
   "cell_type": "markdown",
   "metadata": {
    "editable": false
   },
   "source": [
    "### Question 4:\n",
    "\n",
    "Does there appear to be a relationship between `dreaming` and `predation`.\n",
    "\n",
    "Justify your answer with a plot."
   ]
  },
  {
   "cell_type": "code",
   "execution_count": null,
   "metadata": {},
   "outputs": [],
   "source": []
  },
  {
   "cell_type": "markdown",
   "metadata": {},
   "source": [
    "Answer 4:\n"
   ]
  },
  {
   "cell_type": "markdown",
   "metadata": {
    "editable": false
   },
   "source": [
    "### Question 5:\n",
    "\n",
    "Does there appear to be a relationship between `gestation` and `dreaming`.\n",
    "\n",
    "Justify your answer witha plot."
   ]
  },
  {
   "cell_type": "code",
   "execution_count": null,
   "metadata": {},
   "outputs": [],
   "source": []
  },
  {
   "cell_type": "markdown",
   "metadata": {
    "editable": false
   },
   "source": [
    "### Question 6 (Textbook 2.14)   Facebook friends.\n",
    "\n",
    "Facebook data indicate that 50% of Facebook users have 100 or more friends,\n",
    "and that the average friend count of users is 190. What do these findings suggest about the shape of the\n",
    "distribution of number of friends of Facebook users?"
   ]
  },
  {
   "cell_type": "markdown",
   "metadata": {
    "editable": false
   },
   "source": [
    "### The next  2 questions are all about one data set called `ask`\n",
    "\n",
    "Run the code below to load the data."
   ]
  },
  {
   "cell_type": "code",
   "execution_count": null,
   "metadata": {},
   "outputs": [],
   "source": [
    "ask<- read.csv(\"https://www.openintro.org/data/csv/ask.csv\") "
   ]
  },
  {
   "cell_type": "markdown",
   "metadata": {},
   "source": [
    "### About the data:\n",
    "\n",
    "This data is avaliable at `openintro.org`.\n",
    "\n",
    "In this experiment, each individual was asked to be a seller of an iPod. The participant was told that the iPod they were selling had frozen twice in the past inexplicably but otherwise worked fine. The prospective buyer starts off and then asks one of three final questions, depending on the seller's treatment group.\n",
    "\n",
    "\n",
    "The three possible questions: \n",
    "- General: What can you tell me about it? \n",
    "- Positive Assumption: It doesn't have any problems, does it? \n",
    "- Negative Assumption: What problems does it have? \n",
    "\n",
    "The outcome variable is whether or not the participant discloses or hides the problem with the iPod.\n",
    "\n",
    "\n",
    "The source of the data is  Minson JA, Ruedy NE, Schweitzer ME. There *is* such a thing as a stupid question: Question disclosure in strategic communication.\n",
    "\n",
    "The variables are:\n",
    "\n",
    "-  `question_class` - The type of question: `general`, `pos_assumption`, and `neg_assumption`.\n",
    "-  `question` - The question corresponding to the `question.class`\n",
    "-  `response` - The classified response from the seller, either `disclose` or `hide`."
   ]
  },
  {
   "cell_type": "markdown",
   "metadata": {
    "editable": false
   },
   "source": [
    "## Question 7\n",
    "\n",
    "Is there a relationship between the variables `question` and `response`.\n",
    "\n",
    "Your answer should include a plot (with title), and a written portion explaining your conclusion."
   ]
  },
  {
   "cell_type": "code",
   "execution_count": null,
   "metadata": {},
   "outputs": [],
   "source": []
  },
  {
   "cell_type": "markdown",
   "metadata": {},
   "source": [
    "Answer 7 here:"
   ]
  },
  {
   "cell_type": "markdown",
   "metadata": {
    "editable": false
   },
   "source": [
    "## Question 8\n",
    "\n",
    "What proportion of the participants who were asked \"What problems does it have?\" disclosed the problems.  (You should give a precise answer, and not estimate from a plot)"
   ]
  },
  {
   "cell_type": "code",
   "execution_count": null,
   "metadata": {},
   "outputs": [],
   "source": []
  },
  {
   "cell_type": "markdown",
   "metadata": {},
   "source": [
    "Answer 8 here:"
   ]
  },
  {
   "cell_type": "markdown",
   "metadata": {
    "editable": false
   },
   "source": [
    "## Question  9  (Openintro 2.26) \n",
    "### Heart transplants. \n",
    "\n",
    "\n",
    "The Stanford University Heart Transplant Study was conducted to determine\n",
    "whether an experimental heart transplant program increased lifespan. Each patient entering the program\n",
    "was designated an official heart transplant candidate, meaning that he was gravely ill and would most likely\n",
    "benefit from a new heart. Some patients got a transplant and some did not. The variable transplant\n",
    "indicates which group the patients were in; patients in the treatment group got a transplant and those in the\n",
    "control group did not. Of the 34 patients in the control group, 30 died. Of the 69 people in the treatment\n",
    "group, 45 died. Another variable called survived was used to indicate whether or not the patient was alive\n",
    "at the end of the study.\n",
    "\n",
    "### Run the code below, (or look in the textbook) to see the plots.\n",
    "\n",
    "- (a) Based on the mosaic plot, is survival independent of whether or not the patient got a transplant? Explain\n",
    "your reasoning.\n",
    "- (b) What do the box plots below suggest about the efficacy (effectiveness) of the heart transplant treatment.\n",
    "- (c) What proportion of patients in the treatment group and what proportion of patients in the control groupdied?\n"
   ]
  },
  {
   "cell_type": "code",
   "execution_count": null,
   "metadata": {
    "editable": false
   },
   "outputs": [],
   "source": [
    "heart<- read.csv(\"https://www.openintro.org/data/csv/heart_transplant.csv\") \n",
    "par(mfrow=c(1,2))\n",
    "mosaicplot(table(heart$transplant,heart$survived),color=TRUE,main=\"\")\n",
    "boxplot(heart$survtime~heart$transplant,xlab=\"\",ylab=\"Survival Time (days)\")"
   ]
  },
  {
   "cell_type": "code",
   "execution_count": null,
   "metadata": {},
   "outputs": [],
   "source": []
  },
  {
   "cell_type": "markdown",
   "metadata": {},
   "source": [
    "### Answer 9a)\n",
    "\n",
    "(Type here)"
   ]
  },
  {
   "cell_type": "markdown",
   "metadata": {},
   "source": [
    "### Answer 9b)\n",
    "\n",
    "(Type here)"
   ]
  },
  {
   "cell_type": "markdown",
   "metadata": {},
   "source": [
    "### Answer 9c)\n",
    "\n",
    "(Type here)"
   ]
  },
  {
   "cell_type": "markdown",
   "metadata": {
    "editable": false
   },
   "source": [
    "---\n",
    "\n",
    "Some of these questions come from `openintrostatistics` this book and the data set is avaliable at `openintro.org`"
   ]
  }
 ],
 "metadata": {
  "celltoolbar": "Edit Metadata",
  "kernelspec": {
   "display_name": "R",
   "language": "R",
   "name": "ir"
  },
  "language_info": {
   "codemirror_mode": "r",
   "file_extension": ".r",
   "mimetype": "text/x-r-source",
   "name": "R",
   "pygments_lexer": "r",
   "version": "3.6.2"
  }
 },
 "nbformat": 4,
 "nbformat_minor": 4
}
